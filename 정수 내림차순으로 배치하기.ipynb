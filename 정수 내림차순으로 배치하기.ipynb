{
 "cells": [
  {
   "cell_type": "markdown",
   "metadata": {},
   "source": [
    "# 정수 내림차순으로 배치하기\n",
    "\n",
    "함수 solution은 정수 n을 매개변수로 입력받습니다. \n",
    "\n",
    "n의 각 자릿수를 큰것부터 작은 순으로 정렬한 새로운 정수를 리턴해주세요. 예를들어 n이 118372면 873211을 리턴하면 됩니다.\n",
    "\n",
    "제한 조건\n",
    "\n",
    "n은 1이상 8000000000 이하인 자연수입니다.\n",
    "\n",
    "입출력 예\n",
    "\n",
    "n\treturn\n",
    "\n",
    "118372\t873211"
   ]
  },
  {
   "cell_type": "markdown",
   "metadata": {},
   "source": [
    "## My code"
   ]
  },
  {
   "cell_type": "code",
   "execution_count": 1,
   "metadata": {},
   "outputs": [
    {
     "data": {
      "text/plain": [
       "9988443221111"
      ]
     },
     "execution_count": 1,
     "metadata": {},
     "output_type": "execute_result"
    }
   ],
   "source": [
    "import (\n",
    "    \"strconv\"\n",
    "    \"sort\"\n",
    ")\n",
    "\n",
    "func solution(n int64) int64 {\n",
    "    n_array := []string{}\n",
    "    result := \"\"\n",
    "    for n > 0 {\n",
    "        n_array = append(n_array, strconv.Itoa(int(n % 10)))\n",
    "        n /= 10\n",
    "    }\n",
    "    sort.Sort(sort.Reverse(sort.StringSlice(n_array)))\n",
    "    for i := 0; i < len(n_array); i++ {\n",
    "        result += n_array[i]\n",
    "    }\n",
    "    res, _ := strconv.ParseInt(result, 10, 64)\n",
    "    return res\n",
    "}\n",
    "\n",
    "solution(1893142891241)"
   ]
  },
  {
   "cell_type": "markdown",
   "metadata": {},
   "source": [
    "## answers"
   ]
  },
  {
   "cell_type": "code",
   "execution_count": 2,
   "metadata": {},
   "outputs": [],
   "source": [
    "import \"sort\"\n",
    "\n",
    "func solution(n int64) int64 {\n",
    "    arr := make([]int, 0, 16)\n",
    "\n",
    "    for n != 0 {\n",
    "        arr = append(arr, int(n%10))\n",
    "        n /= 10\n",
    "    }\n",
    "\n",
    "    sort.Sort(sort.Reverse(sort.IntSlice(arr)))\n",
    "\n",
    "    var ret int64\n",
    "\n",
    "    for _, v := range arr {\n",
    "        ret *= 10\n",
    "        ret += int64(v)\n",
    "    }\n",
    "\n",
    "    return ret\n",
    "}"
   ]
  },
  {
   "cell_type": "code",
   "execution_count": null,
   "metadata": {},
   "outputs": [],
   "source": [
    "import (\n",
    "    \"sort\"\n",
    "    \"strings\"\n",
    "    \"strconv\"\n",
    ")\n",
    "\n",
    "func solution(n int64) int64 {\n",
    "    str := strconv.Itoa(int(n))\n",
    "    result_arr := strings.Split(str, \"\")\n",
    "\n",
    "    sort.Sort(sort.Reverse(sort.StringSlice(result_arr)))\n",
    "    result,_ := strconv.Atoi(strings.Join(result_arr, \"\"))\n",
    "\n",
    "    return int64(result)\n",
    "}"
   ]
  }
 ],
 "metadata": {
  "kernelspec": {
   "display_name": "Go",
   "language": "go",
   "name": "gophernotes"
  },
  "language_info": {
   "codemirror_mode": "",
   "file_extension": ".go",
   "mimetype": "",
   "name": "go",
   "nbconvert_exporter": "",
   "pygments_lexer": "",
   "version": "go1.11.4"
  }
 },
 "nbformat": 4,
 "nbformat_minor": 2
}
