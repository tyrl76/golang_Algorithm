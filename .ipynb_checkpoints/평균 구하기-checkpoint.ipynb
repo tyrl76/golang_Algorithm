{
 "cells": [
  {
   "cell_type": "markdown",
   "metadata": {},
   "source": [
    "# 평균 구하기\n",
    "\n",
    "정수를 담고 있는 배열 arr의 평균값을 return하는 함수, solution을 완성해보세요.\n",
    "\n",
    "제한사항\n",
    "\n",
    "arr은 길이 1 이상, 100 이하인 배열입니다.\n",
    "\n",
    "arr의 원소는 -10,000 이상 10,000 이하인 정수입니다.\n",
    "\n",
    "입출력 예\n",
    "\n",
    "arr\treturn\n",
    "\n",
    "[1,2,3,4]\t2.5\n",
    "\n",
    "[5,5]\t5"
   ]
  },
  {
   "cell_type": "markdown",
   "metadata": {},
   "source": [
    "## My code"
   ]
  },
  {
   "cell_type": "code",
   "execution_count": null,
   "metadata": {},
   "outputs": [],
   "source": [
    "import \"fmt\"\n",
    "\n",
    "func solution(arr []int) float64 {\n",
    "    sum := 0\n",
    "    /* for i := 0; i < len(arr); i++ {\n",
    "        sum += arr[i]\n",
    "    }\n",
    "    return float64(sum) / float64(len(arr)) */\n",
    "    for x, y := range arr {\n",
    "        fmt.Println(x, y)\n",
    "        sum += y\n",
    "    }\n",
    "    \n",
    "    return float64(sum) / float64(len(arr))\n",
    "}"
   ]
  },
  {
   "cell_type": "markdown",
   "metadata": {},
   "source": [
    "## answers"
   ]
  },
  {
   "cell_type": "code",
   "execution_count": null,
   "metadata": {},
   "outputs": [],
   "source": [
    "func solution(arr []int) float64 {\n",
    "    var sum int\n",
    "    var avg float64\n",
    "\n",
    "    for _, val := range arr {\n",
    "        sum += val\n",
    "    }\n",
    "    avg = float64(sum)/float64(len(arr))\n",
    "\n",
    "    return avg\n",
    "}"
   ]
  }
 ],
 "metadata": {
  "kernelspec": {
   "display_name": "Go",
   "language": "go",
   "name": "gophernotes"
  },
  "language_info": {
   "codemirror_mode": "",
   "file_extension": ".go",
   "mimetype": "",
   "name": "go",
   "nbconvert_exporter": "",
   "pygments_lexer": "",
   "version": "go1.11.4"
  }
 },
 "nbformat": 4,
 "nbformat_minor": 2
}
