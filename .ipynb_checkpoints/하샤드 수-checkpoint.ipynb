{
 "cells": [
  {
   "cell_type": "markdown",
   "metadata": {},
   "source": [
    "# 하샤드 수\n",
    "\n",
    "양의 정수 x가 하샤드 수이려면 x의 자릿수의 합으로 x가 나누어져야 합니다. \n",
    "\n",
    "예를 들어 18의 자릿수 합은 1+8=9이고, 18은 9로 나누어 떨어지므로 18은 하샤드 수입니다. \n",
    "\n",
    "자연수 x를 입력받아 x가 하샤드 수인지 아닌지 검사하는 함수, solution을 완성해주세요.\n",
    "\n",
    "제한 조건\n",
    "\n",
    "x는 1 이상, 10000 이하인 정수입니다.\n",
    "\n",
    "입출력 예\n",
    "\n",
    "arr\treturn\n",
    "\n",
    "10\ttrue\n",
    "\n",
    "12\ttrue\n",
    "\n",
    "11\tfalse\n",
    "\n",
    "13\tfalse"
   ]
  },
  {
   "cell_type": "markdown",
   "metadata": {},
   "source": [
    "## My code"
   ]
  },
  {
   "cell_type": "code",
   "execution_count": 4,
   "metadata": {},
   "outputs": [
    {
     "name": "stdout",
     "output_type": "stream",
     "text": [
      "1234 10\n",
      "239712 24\n"
     ]
    },
    {
     "data": {
      "text/plain": [
       "true"
      ]
     },
     "execution_count": 4,
     "metadata": {},
     "output_type": "execute_result"
    }
   ],
   "source": [
    "import \"fmt\"\n",
    "\n",
    "func solution(x int) bool {\n",
    "    sum := 0\n",
    "    input := x\n",
    "    for x > 0 {\n",
    "        sum += x % 10\n",
    "        x = x / 10\n",
    "    }\n",
    "\n",
    "    fmt.Println(input, sum)\n",
    "\n",
    "    return input % sum == 0\n",
    "}\n",
    "\n",
    "solution(1234)\n",
    "solution(239712)"
   ]
  },
  {
   "cell_type": "markdown",
   "metadata": {},
   "source": [
    "## answers"
   ]
  },
  {
   "cell_type": "code",
   "execution_count": 5,
   "metadata": {},
   "outputs": [],
   "source": [
    "import (\"strings\"\n",
    "       \"strconv\")\n",
    "func solution(x int) bool {\n",
    "   tmp := 0\n",
    "    for _, a := range strings.Split(strconv.Itoa(x), \"\"){\n",
    "        inter , _ := strconv.Atoi(a)\n",
    "        tmp = tmp + inter\n",
    "    }\n",
    "    return  x % tmp == 0\n",
    "}"
   ]
  }
 ],
 "metadata": {
  "kernelspec": {
   "display_name": "Go",
   "language": "go",
   "name": "gophernotes"
  },
  "language_info": {
   "codemirror_mode": "",
   "file_extension": ".go",
   "mimetype": "",
   "name": "go",
   "nbconvert_exporter": "",
   "pygments_lexer": "",
   "version": "go1.11.4"
  }
 },
 "nbformat": 4,
 "nbformat_minor": 2
}
