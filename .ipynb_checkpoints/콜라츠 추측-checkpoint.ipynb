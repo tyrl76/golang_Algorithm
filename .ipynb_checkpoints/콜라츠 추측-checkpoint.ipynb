{
 "cells": [
  {
   "cell_type": "markdown",
   "metadata": {},
   "source": [
    "# 콜라츠 추측\n",
    "\n",
    "1937년 Collatz란 사람에 의해 제기된 이 추측은, 주어진 수가 1이 될때까지 다음 작업을 반복하면, 모든 수를 1로 만들 수 있다는 추측입니다. \n",
    "\n",
    "작업은 다음과 같습니다.\n",
    "\n",
    "1-1. 입력된 수가 짝수라면 2로 나눕니다. \n",
    "\n",
    "1-2. 입력된 수가 홀수라면 3을 곱하고 1을 더합니다.\n",
    "\n",
    "2. 결과로 나온 수에 같은 작업을 1이 될 때까지 반복합니다.\n",
    "\n",
    "예를 들어, 입력된 수가 6이라면 6→3→10→5→16→8→4→2→1 이 되어 총 8번 만에 1이 됩니다. \n",
    "\n",
    "위 작업을 몇 번이나 반복해야하는지 반환하는 함수, solution을 완성해 주세요. \n",
    "\n",
    "단, 작업을 500번을 반복해도 1이 되지 않는다면 –1을 반환해 주세요.\n",
    "\n",
    "제한 사항\n",
    "\n",
    "입력된 수, num은 1 이상 8000000 미만인 정수입니다.\n",
    "\n",
    "입출력 예\n",
    "\n",
    "n\tresult\n",
    "\n",
    "6\t8\n",
    "\n",
    "16\t4\n",
    "\n",
    "626331\t-1"
   ]
  },
  {
   "cell_type": "markdown",
   "metadata": {},
   "source": [
    "## My code"
   ]
  },
  {
   "cell_type": "code",
   "execution_count": 1,
   "metadata": {},
   "outputs": [
    {
     "data": {
      "text/plain": [
       "35"
      ]
     },
     "execution_count": 1,
     "metadata": {},
     "output_type": "execute_result"
    }
   ],
   "source": [
    "func solution(num int) int {\n",
    "    count := 0\n",
    "    for num != 1 {\n",
    "        if num % 2 == 0 {\n",
    "            num /= 2\n",
    "            count++\n",
    "        } else {\n",
    "            num = num * 3 + 1\n",
    "            count++\n",
    "        }\n",
    "        if count == 500 {\n",
    "            return -1\n",
    "        }\n",
    "    }\n",
    "    return count\n",
    "}\n",
    "\n",
    "solution(2832)"
   ]
  },
  {
   "cell_type": "markdown",
   "metadata": {},
   "source": [
    "## answers"
   ]
  },
  {
   "cell_type": "code",
   "execution_count": null,
   "metadata": {},
   "outputs": [],
   "source": [
    "func solution(num int) int {\n",
    "    if num == 1 {\n",
    "        return 0\n",
    "    }\n",
    "    return devide(uint64(num), 1)\n",
    "}\n",
    "\n",
    "func devide(num uint64, count int) int {\n",
    "    if num%2 != 0 {\n",
    "        num = (num * 3) + 1\n",
    "    } else {\n",
    "        num = num / 2\n",
    "    }\n",
    "\n",
    "    if num == 1 {\n",
    "        return count\n",
    "    } else if count > 500 {\n",
    "        return -1\n",
    "    }\n",
    "\n",
    "    return devide(num, count+1)\n",
    "}"
   ]
  }
 ],
 "metadata": {
  "kernelspec": {
   "display_name": "Go",
   "language": "go",
   "name": "gophernotes"
  },
  "language_info": {
   "codemirror_mode": "",
   "file_extension": ".go",
   "mimetype": "",
   "name": "go",
   "nbconvert_exporter": "",
   "pygments_lexer": "",
   "version": "go1.11.4"
  }
 },
 "nbformat": 4,
 "nbformat_minor": 2
}
