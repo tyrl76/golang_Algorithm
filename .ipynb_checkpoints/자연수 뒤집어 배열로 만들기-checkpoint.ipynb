{
 "cells": [
  {
   "cell_type": "markdown",
   "metadata": {},
   "source": [
    "# 자연수 뒤집어 배열로 만들기\n",
    "\n",
    "자연수 n을 뒤집어 각 자리 숫자를 원소로 가지는 배열 형태로 리턴해주세요. \n",
    "\n",
    "예를들어 n이 12345이면 [5,4,3,2,1]을 리턴합니다.\n",
    "\n",
    "제한 조건\n",
    "\n",
    "n은 10,000,000,000이하인 자연수입니다.\n",
    "\n",
    "입출력 예\n",
    "\n",
    "n\treturn\n",
    "\n",
    "12345\t[5,4,3,2,1]"
   ]
  },
  {
   "cell_type": "markdown",
   "metadata": {},
   "source": [
    "## My code"
   ]
  },
  {
   "cell_type": "code",
   "execution_count": 7,
   "metadata": {},
   "outputs": [
    {
     "ename": "ERROR",
     "evalue": "runtime error: index out of range",
     "output_type": "error",
     "traceback": [
      "runtime error: index out of range"
     ]
    }
   ],
   "source": [
    "package main\n",
    "\n",
    "import (\n",
    "    \"fmt\"\n",
    "    \"strconv\" // string 관련 변환\n",
    "    \"reflect\" // type 확인\n",
    "    \"strings\" // \n",
    ")\n",
    "\n",
    "func solution(n int64) []int {\n",
    "    fmt.Println(reflect.TypeOf(n))\n",
    "\n",
    "    num := strconv.FormatInt(n, 10)\n",
    "\n",
    "    length := len(num)\n",
    "\n",
    "    fmt.Println(reflect.TypeOf(num))\n",
    "\n",
    "    array := []string{}\n",
    "\n",
    "    array = strings.Split(num, \"\")\n",
    "\n",
    "    result := []int{}\n",
    "\n",
    "    for i := length - 1 ; i >= 0 ; i-- {\n",
    "        index, err := strconv.Atoi(array[i])\n",
    "        if err != nil {\n",
    "            fmt.Println(err)\n",
    "        }\n",
    "        result = append(result, index)\n",
    "    }\n",
    "\n",
    "    return result\n",
    "}"
   ]
  },
  {
   "cell_type": "markdown",
   "metadata": {},
   "source": [
    "## answers"
   ]
  },
  {
   "cell_type": "code",
   "execution_count": 8,
   "metadata": {},
   "outputs": [],
   "source": [
    "func solution(n int64) []int {\n",
    "    var answer []int\n",
    "\n",
    "    temp := n\n",
    "    for temp > 0 {\n",
    "        answer = append(answer, int(temp%10))\n",
    "        temp /= 10\n",
    "    }\n",
    "    return answer\n",
    "}"
   ]
  },
  {
   "cell_type": "code",
   "execution_count": null,
   "metadata": {},
   "outputs": [],
   "source": [
    "import(\n",
    "\"strconv\"\n",
    "\"strings\"\n",
    ")\n",
    "\n",
    "func solution(n int64) []int {\n",
    "\n",
    "    s := strconv.FormatInt(n, 10)\n",
    "    arr := strings.Split(s, \"\")\n",
    "    var answer []int\n",
    "\n",
    "    for i := len(arr)-1; i >= 0; i-- {\n",
    "        a, _ := strconv.Atoi(arr[i])\n",
    "        answer = append(answer, a)\n",
    "    }\n",
    "\n",
    "    return answer\n",
    "}"
   ]
  }
 ],
 "metadata": {
  "kernelspec": {
   "display_name": "Go",
   "language": "go",
   "name": "gophernotes"
  },
  "language_info": {
   "codemirror_mode": "",
   "file_extension": ".go",
   "mimetype": "",
   "name": "go",
   "nbconvert_exporter": "",
   "pygments_lexer": "",
   "version": "go1.11.4"
  }
 },
 "nbformat": 4,
 "nbformat_minor": 2
}
