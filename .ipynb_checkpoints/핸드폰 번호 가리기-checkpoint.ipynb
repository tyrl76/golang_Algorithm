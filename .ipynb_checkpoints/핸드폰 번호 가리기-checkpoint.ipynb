{
 "cells": [
  {
   "cell_type": "markdown",
   "metadata": {},
   "source": [
    "# 핸드폰 번호 가리기\n",
    "\n",
    "프로그래머스 모바일은 개인정보 보호를 위해 고지서를 보낼 때 고객들의 전화번호의 일부를 가립니다.\n",
    "\n",
    "전화번호가 문자열 phone_number로 주어졌을 때, 전화번호의 뒷 4자리를 제외한 나머지 숫자를 전부 *으로 가린 문자열을 리턴하는 함수, solution을 완성해주세요.\n",
    "\n",
    "제한 조건\n",
    "\n",
    "s는 길이 4 이상, 20이하인 문자열입니다.\n",
    "\n",
    "입출력 예\n",
    "\n",
    "phone_number\treturn\n",
    "\n",
    "\"01033334444\"\t\"*******4444\"\n",
    "\n",
    "\"027778888\"\t\"*****8888\""
   ]
  },
  {
   "cell_type": "markdown",
   "metadata": {},
   "source": [
    "## My code"
   ]
  },
  {
   "cell_type": "code",
   "execution_count": 1,
   "metadata": {},
   "outputs": [
    {
     "data": {
      "text/plain": [
       "*****0192"
      ]
     },
     "execution_count": 1,
     "metadata": {},
     "output_type": "execute_result"
    }
   ],
   "source": [
    "import (\n",
    "    \"strings\"\n",
    ")\n",
    "\n",
    "func solution(phone_number string) string {\n",
    "    num_arr := strings.Split(phone_number, \"\")\n",
    "    var result string\n",
    "    for i := 0; i < len(num_arr); i++ {\n",
    "        if i >= len(num_arr) - 4 {\n",
    "            result += num_arr[i]\n",
    "        } else {\n",
    "            result += \"*\"\n",
    "        }\n",
    "    }\n",
    "    return result\n",
    "}\n",
    "\n",
    "solution(\"282930192\")"
   ]
  },
  {
   "cell_type": "markdown",
   "metadata": {},
   "source": [
    "## answers"
   ]
  },
  {
   "cell_type": "code",
   "execution_count": 4,
   "metadata": {},
   "outputs": [
    {
     "data": {
      "text/plain": [
       "*****0192"
      ]
     },
     "execution_count": 4,
     "metadata": {},
     "output_type": "execute_result"
    }
   ],
   "source": [
    "import \"strings\"\n",
    "\n",
    "func solution(phone_number string) string {\n",
    "    return strings.Repeat(\"*\", len(phone_number)-4) + phone_number[len(phone_number)-4:]\n",
    "}\n",
    "\n",
    "solution(\"282930192\")"
   ]
  },
  {
   "cell_type": "code",
   "execution_count": 6,
   "metadata": {},
   "outputs": [
    {
     "name": "stdout",
     "output_type": "stream",
     "text": [
      "[50 56 50 57 51 48 49 57 50]\n",
      "[]uint8\n"
     ]
    },
    {
     "data": {
      "text/plain": [
       "*****0192"
      ]
     },
     "execution_count": 6,
     "metadata": {},
     "output_type": "execute_result"
    }
   ],
   "source": [
    "import (\n",
    "    \"fmt\"\n",
    "    \"reflect\"\n",
    ")\n",
    "\n",
    "func solution(phone_number string) string {\n",
    "\n",
    "    number := []byte(phone_number)\n",
    "    \n",
    "    fmt.Println(number)\n",
    "    fmt.Println(reflect.TypeOf(number))\n",
    "\n",
    "    for i := 0; i < len(number)-4; i++ {\n",
    "        number[i] = '*'\n",
    "    }\n",
    "    return string(number)\n",
    "}\n",
    "\n",
    "solution(\"282930192\")"
   ]
  }
 ],
 "metadata": {
  "kernelspec": {
   "display_name": "Go",
   "language": "go",
   "name": "gophernotes"
  },
  "language_info": {
   "codemirror_mode": "",
   "file_extension": ".go",
   "mimetype": "",
   "name": "go",
   "nbconvert_exporter": "",
   "pygments_lexer": "",
   "version": "go1.11.4"
  }
 },
 "nbformat": 4,
 "nbformat_minor": 2
}
